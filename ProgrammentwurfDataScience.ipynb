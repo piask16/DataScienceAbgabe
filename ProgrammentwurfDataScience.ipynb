{
 "cells": [
  {
   "cell_type": "markdown",
   "id": "869d5f96",
   "metadata": {},
   "source": [
    "# Programmentwurf Data Science\n",
    "#### Ilvy Schulz und Pia Skuthan"
   ]
  },
  {
   "cell_type": "markdown",
   "id": "d5bb10d9",
   "metadata": {},
   "source": [
    "## 1. Data Understanding - Test"
   ]
  }
 ],
 "metadata": {
  "language_info": {
   "name": "python"
  }
 },
 "nbformat": 4,
 "nbformat_minor": 5
}
